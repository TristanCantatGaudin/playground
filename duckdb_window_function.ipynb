{
 "cells": [
  {
   "cell_type": "markdown",
   "id": "9491f384-8599-4716-a6cc-251ee0aa30f4",
   "metadata": {},
   "source": [
    "This uses `duckdb` to illustrate the use of a window function.\n",
    "\n",
    "## Task\n",
    "\n",
    "I want to group stars by healpix region, and know for each star how it ranks in magnitude within its healpix region (1 if it is the brightest, 2 for the second brightest etc).\n",
    "\n",
    "## Get data\n",
    "\n",
    "I get data from the Gaia catalogue, then convert it to a `pandas` df."
   ]
  },
  {
   "cell_type": "code",
   "execution_count": 1,
   "id": "556d19a3-dfde-4b2e-9002-0e713c3d3a18",
   "metadata": {},
   "outputs": [
    {
     "name": "stdout",
     "output_type": "stream",
     "text": [
      "INFO: Query finished. [astroquery.utils.tap.core]\n",
      "CPU times: user 6.48 s, sys: 345 ms, total: 6.82 s\n",
      "Wall time: 39.5 s\n"
     ]
    }
   ],
   "source": [
    "%%time\n",
    "from astroquery.gaia import Gaia\n",
    "\n",
    "query_string = \"\"\"SELECT random_index, phot_g_mean_mag, GAIA_HEALPIX_INDEX(4, source_id) as healpix\n",
    "  FROM gaiadr3.gaia_source \n",
    "  WHERE random_index < 1000000 \n",
    "  ORDER BY random_index\"\"\"\n",
    "\n",
    "job = Gaia.launch_job_async(query=query_string, verbose=False)\n",
    "gaia_data = job.get_results()\n",
    "gaia_df = gaia_data.to_pandas()"
   ]
  },
  {
   "cell_type": "code",
   "execution_count": 3,
   "id": "1c947afd-649f-44c3-8200-8f51de75662c",
   "metadata": {},
   "outputs": [
    {
     "data": {
      "text/html": [
       "<div>\n",
       "<style scoped>\n",
       "    .dataframe tbody tr th:only-of-type {\n",
       "        vertical-align: middle;\n",
       "    }\n",
       "\n",
       "    .dataframe tbody tr th {\n",
       "        vertical-align: top;\n",
       "    }\n",
       "\n",
       "    .dataframe thead th {\n",
       "        text-align: right;\n",
       "    }\n",
       "</style>\n",
       "<table border=\"1\" class=\"dataframe\">\n",
       "  <thead>\n",
       "    <tr style=\"text-align: right;\">\n",
       "      <th></th>\n",
       "      <th>random_index</th>\n",
       "      <th>phot_g_mean_mag</th>\n",
       "      <th>healpix</th>\n",
       "    </tr>\n",
       "  </thead>\n",
       "  <tbody>\n",
       "    <tr>\n",
       "      <th>0</th>\n",
       "      <td>0</td>\n",
       "      <td>15.244129</td>\n",
       "      <td>1895.0</td>\n",
       "    </tr>\n",
       "    <tr>\n",
       "      <th>1</th>\n",
       "      <td>1</td>\n",
       "      <td>20.906347</td>\n",
       "      <td>2332.0</td>\n",
       "    </tr>\n",
       "    <tr>\n",
       "      <th>2</th>\n",
       "      <td>2</td>\n",
       "      <td>20.531225</td>\n",
       "      <td>860.0</td>\n",
       "    </tr>\n",
       "    <tr>\n",
       "      <th>3</th>\n",
       "      <td>3</td>\n",
       "      <td>20.145899</td>\n",
       "      <td>2651.0</td>\n",
       "    </tr>\n",
       "    <tr>\n",
       "      <th>4</th>\n",
       "      <td>4</td>\n",
       "      <td>19.787357</td>\n",
       "      <td>2643.0</td>\n",
       "    </tr>\n",
       "    <tr>\n",
       "      <th>...</th>\n",
       "      <td>...</td>\n",
       "      <td>...</td>\n",
       "      <td>...</td>\n",
       "    </tr>\n",
       "    <tr>\n",
       "      <th>999995</th>\n",
       "      <td>999995</td>\n",
       "      <td>20.033766</td>\n",
       "      <td>2682.0</td>\n",
       "    </tr>\n",
       "    <tr>\n",
       "      <th>999996</th>\n",
       "      <td>999996</td>\n",
       "      <td>19.326818</td>\n",
       "      <td>2068.0</td>\n",
       "    </tr>\n",
       "    <tr>\n",
       "      <th>999997</th>\n",
       "      <td>999997</td>\n",
       "      <td>18.571827</td>\n",
       "      <td>628.0</td>\n",
       "    </tr>\n",
       "    <tr>\n",
       "      <th>999998</th>\n",
       "      <td>999998</td>\n",
       "      <td>20.949343</td>\n",
       "      <td>801.0</td>\n",
       "    </tr>\n",
       "    <tr>\n",
       "      <th>999999</th>\n",
       "      <td>999999</td>\n",
       "      <td>19.228209</td>\n",
       "      <td>1888.0</td>\n",
       "    </tr>\n",
       "  </tbody>\n",
       "</table>\n",
       "<p>1000000 rows × 3 columns</p>\n",
       "</div>"
      ],
      "text/plain": [
       "        random_index  phot_g_mean_mag  healpix\n",
       "0                  0        15.244129   1895.0\n",
       "1                  1        20.906347   2332.0\n",
       "2                  2        20.531225    860.0\n",
       "3                  3        20.145899   2651.0\n",
       "4                  4        19.787357   2643.0\n",
       "...              ...              ...      ...\n",
       "999995        999995        20.033766   2682.0\n",
       "999996        999996        19.326818   2068.0\n",
       "999997        999997        18.571827    628.0\n",
       "999998        999998        20.949343    801.0\n",
       "999999        999999        19.228209   1888.0\n",
       "\n",
       "[1000000 rows x 3 columns]"
      ]
     },
     "execution_count": 3,
     "metadata": {},
     "output_type": "execute_result"
    }
   ],
   "source": [
    "gaia_df"
   ]
  },
  {
   "cell_type": "code",
   "execution_count": 2,
   "id": "6d3ebc57-5c67-4f46-9475-d4f07c0a8b89",
   "metadata": {},
   "outputs": [],
   "source": [
    "import duckdb"
   ]
  },
  {
   "cell_type": "markdown",
   "id": "519b961c-f148-422f-b720-a02a18e22507",
   "metadata": {},
   "source": [
    "### Method 1"
   ]
  },
  {
   "cell_type": "code",
   "execution_count": 15,
   "id": "9a50633b-f705-4564-a508-bd99e9e5dd9c",
   "metadata": {},
   "outputs": [
    {
     "name": "stdout",
     "output_type": "stream",
     "text": [
      "CPU times: user 2.44 ms, sys: 502 μs, total: 2.95 ms\n",
      "Wall time: 2.23 ms\n"
     ]
    },
    {
     "data": {
      "text/plain": [
       "┌─────────┬─────────────────┬──────────────┬──────────┐\n",
       "│ healpix │ phot_g_mean_mag │ random_index │ mag_rank │\n",
       "│ double  │      float      │    int64     │  int64   │\n",
       "├─────────┼─────────────────┼──────────────┼──────────┤\n",
       "│  1895.0 │       15.244129 │            0 │       33 │\n",
       "│  2332.0 │       20.906347 │            1 │     1769 │\n",
       "│   860.0 │       20.531225 │            2 │      122 │\n",
       "│  2651.0 │       20.145899 │            3 │     1579 │\n",
       "│  2643.0 │       19.787357 │            4 │     1454 │\n",
       "│  2670.0 │        21.05777 │            5 │      416 │\n",
       "│  2720.0 │       19.050842 │            6 │      221 │\n",
       "│  2672.0 │        20.33379 │            7 │      933 │\n",
       "│  2310.0 │       18.942072 │            8 │       77 │\n",
       "│  1848.0 │       20.702047 │            9 │     1156 │\n",
       "│     ·   │           ·     │            · │       ·  │\n",
       "│     ·   │           ·     │            · │       ·  │\n",
       "│     ·   │           ·     │            · │       ·  │\n",
       "│  2070.0 │       18.848368 │         9990 │      248 │\n",
       "│  2620.0 │       20.062098 │         9991 │      903 │\n",
       "│   978.0 │       20.618744 │         9992 │      607 │\n",
       "│  2664.0 │        20.74254 │         9993 │      980 │\n",
       "│   825.0 │       19.296232 │         9994 │      290 │\n",
       "│  2364.0 │       19.743504 │         9995 │      352 │\n",
       "│   113.0 │        18.97587 │         9996 │      151 │\n",
       "│  2592.0 │       16.423708 │         9997 │       24 │\n",
       "│  1795.0 │       19.501917 │         9998 │     4076 │\n",
       "│  1800.0 │         18.6745 │         9999 │      574 │\n",
       "├─────────┴─────────────────┴──────────────┴──────────┤\n",
       "│ ? rows (>9999 rows, 20 shown)             4 columns │\n",
       "└─────────────────────────────────────────────────────┘"
      ]
     },
     "execution_count": 15,
     "metadata": {},
     "output_type": "execute_result"
    }
   ],
   "source": [
    "%%time\n",
    "duckdb.query(\n",
    "    \"\"\"SELECT\n",
    "    healpix,\n",
    "    phot_g_mean_mag,\n",
    "    random_index,\n",
    "    ROW_NUMBER() OVER (PARTITION BY healpix ORDER BY phot_g_mean_mag ASC) AS mag_rank\n",
    "FROM gaia_df\n",
    "ORDER BY random_index;\"\"\"\n",
    ")"
   ]
  },
  {
   "cell_type": "markdown",
   "id": "82ddd12a-8efa-4387-a1cd-8bfbea069fb1",
   "metadata": {},
   "source": [
    "### Method 2 - using a Common Table Expression"
   ]
  },
  {
   "cell_type": "code",
   "execution_count": 16,
   "id": "73ae724d-997d-4f7e-b51b-ecc56f816833",
   "metadata": {},
   "outputs": [
    {
     "name": "stdout",
     "output_type": "stream",
     "text": [
      "CPU times: user 2.46 ms, sys: 1.11 ms, total: 3.56 ms\n",
      "Wall time: 2.63 ms\n"
     ]
    },
    {
     "data": {
      "text/plain": [
       "┌─────────┬─────────────────┬──────────────┬──────────┐\n",
       "│ healpix │ phot_g_mean_mag │ random_index │ mag_rank │\n",
       "│ double  │      float      │    int64     │  int64   │\n",
       "├─────────┼─────────────────┼──────────────┼──────────┤\n",
       "│  1895.0 │       15.244129 │            0 │       33 │\n",
       "│  2332.0 │       20.906347 │            1 │     1769 │\n",
       "│   860.0 │       20.531225 │            2 │      122 │\n",
       "│  2651.0 │       20.145899 │            3 │     1579 │\n",
       "│  2643.0 │       19.787357 │            4 │     1454 │\n",
       "│  2670.0 │        21.05777 │            5 │      416 │\n",
       "│  2720.0 │       19.050842 │            6 │      221 │\n",
       "│  2672.0 │        20.33379 │            7 │      933 │\n",
       "│  2310.0 │       18.942072 │            8 │       77 │\n",
       "│  1848.0 │       20.702047 │            9 │     1156 │\n",
       "│     ·   │           ·     │            · │       ·  │\n",
       "│     ·   │           ·     │            · │       ·  │\n",
       "│     ·   │           ·     │            · │       ·  │\n",
       "│  2070.0 │       18.848368 │         9990 │      248 │\n",
       "│  2620.0 │       20.062098 │         9991 │      903 │\n",
       "│   978.0 │       20.618744 │         9992 │      607 │\n",
       "│  2664.0 │        20.74254 │         9993 │      980 │\n",
       "│   825.0 │       19.296232 │         9994 │      290 │\n",
       "│  2364.0 │       19.743504 │         9995 │      352 │\n",
       "│   113.0 │        18.97587 │         9996 │      151 │\n",
       "│  2592.0 │       16.423708 │         9997 │       24 │\n",
       "│  1795.0 │       19.501917 │         9998 │     4076 │\n",
       "│  1800.0 │         18.6745 │         9999 │      574 │\n",
       "├─────────┴─────────────────┴──────────────┴──────────┤\n",
       "│ ? rows (>9999 rows, 20 shown)             4 columns │\n",
       "└─────────────────────────────────────────────────────┘"
      ]
     },
     "execution_count": 16,
     "metadata": {},
     "output_type": "execute_result"
    }
   ],
   "source": [
    "%%time\n",
    "duckdb.query(\n",
    "    \"\"\"WITH ranked_stars AS (\n",
    "    SELECT *,\n",
    "           ROW_NUMBER() OVER (PARTITION BY healpix ORDER BY phot_g_mean_mag ASC) AS mag_rank\n",
    "    FROM gaia_df\n",
    ")\n",
    "SELECT healpix, phot_g_mean_mag, random_index, mag_rank\n",
    "FROM ranked_stars\n",
    "ORDER BY random_index;\"\"\"\n",
    ")"
   ]
  },
  {
   "cell_type": "markdown",
   "id": "d0336511-6477-47d4-9bbb-9fb0c8fb4a9c",
   "metadata": {},
   "source": [
    "### Method 3 - subquery"
   ]
  },
  {
   "cell_type": "code",
   "execution_count": 17,
   "id": "fa794a3c-c2db-44a6-a47a-df9ab02bcc4b",
   "metadata": {},
   "outputs": [
    {
     "name": "stdout",
     "output_type": "stream",
     "text": [
      "CPU times: user 2.68 ms, sys: 858 μs, total: 3.54 ms\n",
      "Wall time: 2.6 ms\n"
     ]
    },
    {
     "data": {
      "text/plain": [
       "┌─────────┬─────────────────┬──────────────┬──────────┐\n",
       "│ healpix │ phot_g_mean_mag │ random_index │ mag_rank │\n",
       "│ double  │      float      │    int64     │  int64   │\n",
       "├─────────┼─────────────────┼──────────────┼──────────┤\n",
       "│  1895.0 │       15.244129 │            0 │       33 │\n",
       "│  2332.0 │       20.906347 │            1 │     1769 │\n",
       "│   860.0 │       20.531225 │            2 │      122 │\n",
       "│  2651.0 │       20.145899 │            3 │     1579 │\n",
       "│  2643.0 │       19.787357 │            4 │     1454 │\n",
       "│  2670.0 │        21.05777 │            5 │      416 │\n",
       "│  2720.0 │       19.050842 │            6 │      221 │\n",
       "│  2672.0 │        20.33379 │            7 │      933 │\n",
       "│  2310.0 │       18.942072 │            8 │       77 │\n",
       "│  1848.0 │       20.702047 │            9 │     1156 │\n",
       "│     ·   │           ·     │            · │       ·  │\n",
       "│     ·   │           ·     │            · │       ·  │\n",
       "│     ·   │           ·     │            · │       ·  │\n",
       "│  2070.0 │       18.848368 │         9990 │      248 │\n",
       "│  2620.0 │       20.062098 │         9991 │      903 │\n",
       "│   978.0 │       20.618744 │         9992 │      607 │\n",
       "│  2664.0 │        20.74254 │         9993 │      980 │\n",
       "│   825.0 │       19.296232 │         9994 │      290 │\n",
       "│  2364.0 │       19.743504 │         9995 │      352 │\n",
       "│   113.0 │        18.97587 │         9996 │      151 │\n",
       "│  2592.0 │       16.423708 │         9997 │       24 │\n",
       "│  1795.0 │       19.501917 │         9998 │     4076 │\n",
       "│  1800.0 │         18.6745 │         9999 │      574 │\n",
       "├─────────┴─────────────────┴──────────────┴──────────┤\n",
       "│ ? rows (>9999 rows, 20 shown)             4 columns │\n",
       "└─────────────────────────────────────────────────────┘"
      ]
     },
     "execution_count": 17,
     "metadata": {},
     "output_type": "execute_result"
    }
   ],
   "source": [
    "%%time\n",
    "duckdb.query(\n",
    "    \"\"\"SELECT\n",
    "    r.healpix,\n",
    "    r.phot_g_mean_mag,\n",
    "    r.random_index,\n",
    "    r.mag_rank\n",
    "FROM (\n",
    "    SELECT *,\n",
    "           ROW_NUMBER() OVER (PARTITION BY healpix ORDER BY phot_g_mean_mag ASC) AS mag_rank\n",
    "    FROM gaia_df\n",
    ") r\n",
    "ORDER BY r.random_index;\"\"\"\n",
    ")"
   ]
  }
 ],
 "metadata": {
  "kernelspec": {
   "display_name": "Python 3 (ipykernel)",
   "language": "python",
   "name": "python3"
  },
  "language_info": {
   "codemirror_mode": {
    "name": "ipython",
    "version": 3
   },
   "file_extension": ".py",
   "mimetype": "text/x-python",
   "name": "python",
   "nbconvert_exporter": "python",
   "pygments_lexer": "ipython3",
   "version": "3.13.3"
  }
 },
 "nbformat": 4,
 "nbformat_minor": 5
}
