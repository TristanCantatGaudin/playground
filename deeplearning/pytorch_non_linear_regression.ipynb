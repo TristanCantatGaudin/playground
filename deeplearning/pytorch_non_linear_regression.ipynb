{
 "cells": [
  {
   "cell_type": "markdown",
   "id": "cb4129fb-5fec-41a9-aa26-03cb8a5bbd90",
   "metadata": {},
   "source": [
    "# Non-linear regression with Pytorch\n",
    "\n",
    "Adapted from: https://github.com/mpi-astronomy/data_science_training_materials/blob/main/files/ml-intro/day2-solutions.ipynb\n",
    "\n",
    "This notebooks implements a multilayer perceptron to perform a non-linear regression."
   ]
  },
  {
   "cell_type": "code",
   "execution_count": 20,
   "id": "9c7f40ed-f0a0-469f-b69b-de8f7d760c50",
   "metadata": {},
   "outputs": [],
   "source": [
    "import torch\n",
    "import torch.nn as nn\n",
    "import numpy as np\n",
    "import matplotlib.pyplot as plt"
   ]
  },
  {
   "cell_type": "markdown",
   "id": "ff620108-a3ec-4c25-82b9-e3b9a3de0769",
   "metadata": {},
   "source": [
    "## Generate mock data"
   ]
  },
  {
   "cell_type": "code",
   "execution_count": 3,
   "id": "05bd3990-ca91-4de3-9895-c3070d18a81c",
   "metadata": {},
   "outputs": [
    {
     "data": {
      "text/plain": [
       "Text(0, 0.5, 'y')"
      ]
     },
     "execution_count": 3,
     "metadata": {},
     "output_type": "execute_result"
    },
    {
     "data": {
      "image/png": "[encoded data removed]",
      "text/plain": [
       "<Figure size 640x480 with 1 Axes>"
      ]
     },
     "metadata": {},
     "output_type": "display_data"
    }
   ],
   "source": [
    "def ftrue(x):\n",
    "    return x**3 - x**2 + 25*np.sin(2*x)\n",
    "\n",
    "xxx = np.linspace(-5,5,100)\n",
    "yyy = ftrue(xxx) + np.random.normal(0,10,len(xxx))\n",
    "\n",
    "plt.scatter( xxx , ftrue(xxx) )\n",
    "plt.scatter( xxx , yyy )\n",
    "plt.xlabel('x')\n",
    "plt.ylabel('y')"
   ]
  },
  {
   "cell_type": "markdown",
   "id": "27124ac5-75d9-4afa-8dc5-909f6a24b4ad",
   "metadata": {},
   "source": [
    "## Build the network\n",
    "\n",
    "We implement the neural network as a class.\n",
    "\n",
    "For a fully-connected network, the architecture can be described as a list of numbers given the input dimension, the dimension of each individual hidden layer, and the output. Here the input has dimension 1 (the value of x) and the output has dimension 1 too (the predicted value of y)."
   ]
  },
  {
   "cell_type": "code",
   "execution_count": 6,
   "id": "99e140d5-9b93-4549-a198-be0c97f6f612",
   "metadata": {},
   "outputs": [
    {
     "data": {
      "text/plain": [
       "MLP(\n",
       "  (sequence): Sequential(\n",
       "    (input): Linear(in_features=1, out_features=10, bias=True)\n",
       "    (input_activation): ReLU()\n",
       "    (hidden_0): Linear(in_features=10, out_features=10, bias=True)\n",
       "    (hidden_activation_0): ReLU()\n",
       "    (hidden_1): Linear(in_features=10, out_features=10, bias=True)\n",
       "    (hidden_activation_1): ReLU()\n",
       "    (output): Linear(in_features=10, out_features=1, bias=True)\n",
       "  )\n",
       ")"
      ]
     },
     "execution_count": 6,
     "metadata": {},
     "output_type": "execute_result"
    }
   ],
   "source": [
    "from typing import Sequence\n",
    "\n",
    "# number of nodes per layer (input, ..., output)\n",
    "layout = [1, 10, 10, 10, 1]\n",
    "\n",
    "class MLP(nn.Module):\n",
    "    ''' Multi-layer perceptron for non-linear regression. '''\n",
    "    def __init__(self, layout: Sequence[int]):\n",
    "        super().__init__()  # initialize following nn.Module\n",
    "        n_inputs = layout[0]\n",
    "        n_outputs = layout[-1]\n",
    "        n_hidden = layout[1:-1]\n",
    "        \n",
    "        self.sequence = nn.Sequential()\n",
    "        self.sequence.add_module(\"input\", nn.Linear(n_inputs, n_hidden[0]))\n",
    "        self.sequence.add_module(\"input_activation\", nn.ReLU())\n",
    "        for e, (n1,n2) in enumerate(zip(n_hidden[:-1],n_hidden[1:])):\n",
    "            self.sequence.add_module(f\"hidden_{e:d}\",nn.Linear(n1,n2))\n",
    "            self.sequence.add_module(f\"hidden_activation_{e:d}\", nn.ReLU())    \n",
    "            \n",
    "        self.sequence.add_module(\"output\", nn.Linear(n_hidden[-1],n_outputs) ) \n",
    "        \n",
    "                                 \n",
    "    def forward(self, x: torch.Tensor) -> torch.Tensor:\n",
    "        return self.sequence(x)\n",
    "\n",
    "    \n",
    "model = MLP(layout)\n",
    "model"
   ]
  },
  {
   "cell_type": "markdown",
   "id": "8bf8165b-2dfd-4001-88d4-780e29b016ef",
   "metadata": {},
   "source": [
    "Note that we could also implement this as:"
   ]
  },
  {
   "cell_type": "code",
   "execution_count": 10,
   "id": "65aab505-b383-463f-a63f-d982362262ab",
   "metadata": {},
   "outputs": [
    {
     "data": {
      "text/plain": [
       "Sequential(\n",
       "  (0): Linear(in_features=1, out_features=10, bias=True)\n",
       "  (1): ReLU()\n",
       "  (2): Linear(in_features=10, out_features=10, bias=True)\n",
       "  (3): ReLU()\n",
       "  (4): Linear(in_features=10, out_features=10, bias=True)\n",
       "  (5): ReLU()\n",
       "  (6): Linear(in_features=10, out_features=1, bias=True)\n",
       ")"
      ]
     },
     "execution_count": 10,
     "metadata": {},
     "output_type": "execute_result"
    }
   ],
   "source": [
    "model = nn.Sequential(\n",
    "    nn.Linear(1, 10),\n",
    "    nn.ReLU(),\n",
    "    nn.Linear(10, 10),\n",
    "    nn.ReLU(),\n",
    "    nn.Linear(10, 10),\n",
    "    nn.ReLU(),\n",
    "    nn.Linear(10, 1),\n",
    ")\n",
    "model"
   ]
  },
  {
   "cell_type": "markdown",
   "id": "7c59c0ca-de36-488b-a6c7-ae33e7e0e330",
   "metadata": {},
   "source": [
    "Or, to be able to name each layer:"
   ]
  },
  {
   "cell_type": "code",
   "execution_count": 12,
   "id": "0363bb65-56ce-4b27-abc3-dd394ee9c08a",
   "metadata": {},
   "outputs": [
    {
     "data": {
      "text/plain": [
       "Sequential(\n",
       "  (input): Linear(in_features=1, out_features=10, bias=True)\n",
       "  (input_activation): ReLU()\n",
       "  (hidden_0): Linear(in_features=10, out_features=10, bias=True)\n",
       "  (hidden_activation_0): ReLU()\n",
       "  (hidden_1): Linear(in_features=10, out_features=10, bias=True)\n",
       "  (hidden_activation_1): ReLU()\n",
       "  (output): Linear(in_features=10, out_features=1, bias=True)\n",
       ")"
      ]
     },
     "execution_count": 12,
     "metadata": {},
     "output_type": "execute_result"
    }
   ],
   "source": [
    "from collections import OrderedDict\n",
    "\n",
    "model = nn.Sequential(OrderedDict([\n",
    "    ('input', nn.Linear(1, 10)),\n",
    "    ('input_activation', nn.ReLU()),\n",
    "    ('hidden_0', nn.Linear(10, 10)),\n",
    "    ('hidden_activation_0', nn.ReLU()),\n",
    "    ('hidden_1', nn.Linear(10, 10)),\n",
    "    ('hidden_activation_1', nn.ReLU()),\n",
    "    ('output', nn.Linear(10, 1)),\n",
    "]))\n",
    "model"
   ]
  },
  {
   "cell_type": "markdown",
   "id": "a117cfc0-1c98-47f9-be82-3c5c444329d4",
   "metadata": {},
   "source": [
    "But ours has the advantage of taking the layout as an argument so we stay flexible.\n",
    "\n",
    "One more way to implement the same network would be to explicitly write the `forward` function with:\n",
    "\n",
    "    z = nn.Linear(1, 10)(x)\n",
    "    z = nn.Linear(10, 10)(z)\n",
    "    z = nn.ReLU()(z)\n",
    "    z = nn.Linear(10, 10)(z)\n",
    "    z = nn.ReLU()(z)\n",
    "    z = nn.Linear(10, 1)(z)\n",
    "    return z\n",
    "\n",
    "but this is even less flexible.\n",
    "\n",
    "Once the model is initialised, its (many!) parameters are set to random values:"
   ]
  },
  {
   "cell_type": "code",
   "execution_count": 17,
   "id": "14600b9e-cb9c-403b-bd24-0d449f84a3bb",
   "metadata": {},
   "outputs": [
    {
     "data": {
      "text/plain": [
       "[Parameter containing:\n",
       " tensor([[ 0.2292],\n",
       "         [ 0.6013],\n",
       "         [-0.8558],\n",
       "         [ 0.6432],\n",
       "         [ 0.1999],\n",
       "         [ 0.5509],\n",
       "         [-0.8560],\n",
       "         [ 0.2189],\n",
       "         [-0.3979],\n",
       "         [ 0.7042]], requires_grad=True),\n",
       " Parameter containing:\n",
       " tensor([-0.5004,  0.7065,  0.9677, -0.9604,  0.3207, -0.7635,  0.4145,  0.2778,\n",
       "         -0.3976,  0.2456], requires_grad=True),\n",
       " Parameter containing:\n",
       " tensor([[-0.3028,  0.0673,  0.1803, -0.0151, -0.0911, -0.0221, -0.2267, -0.2316,\n",
       "          -0.1965,  0.0384],\n",
       "         [-0.1959,  0.1636, -0.0907, -0.0680,  0.2093, -0.0413,  0.2395, -0.1968,\n",
       "          -0.2498,  0.1683],\n",
       "         [ 0.2111, -0.1157, -0.2035, -0.0740, -0.1407, -0.0325, -0.3088,  0.0426,\n",
       "          -0.0775,  0.1190],\n",
       "         [ 0.2328,  0.0455, -0.0756, -0.1731,  0.1732, -0.2049, -0.1530,  0.0782,\n",
       "           0.3120, -0.0197],\n",
       "         [ 0.1409,  0.0420,  0.2900, -0.0425, -0.2069, -0.3099,  0.2757,  0.0341,\n",
       "           0.1800, -0.2526],\n",
       "         [ 0.1775, -0.0755, -0.1621,  0.2906,  0.3136, -0.3080, -0.0016, -0.2869,\n",
       "          -0.2149,  0.2223],\n",
       "         [-0.0064, -0.1021, -0.0902, -0.2377,  0.2905, -0.2583, -0.0814, -0.0033,\n",
       "           0.2573,  0.2854],\n",
       "         [ 0.1030, -0.3122, -0.0524,  0.1704,  0.1008, -0.0125,  0.2515,  0.1869,\n",
       "           0.0038,  0.0046],\n",
       "         [-0.0356, -0.2296, -0.1944, -0.2818,  0.1829,  0.0185, -0.2957, -0.0492,\n",
       "           0.0823, -0.2772],\n",
       "         [-0.1876,  0.1922, -0.0223, -0.1733,  0.2666, -0.0967,  0.0651,  0.2356,\n",
       "          -0.1656,  0.0345]], requires_grad=True),\n",
       " Parameter containing:\n",
       " tensor([-0.2437, -0.1247, -0.0188,  0.2076, -0.0855, -0.2211,  0.2625,  0.0336,\n",
       "          0.2468,  0.2368], requires_grad=True),\n",
       " Parameter containing:\n",
       " tensor([[-0.2836,  0.1985,  0.0688, -0.0392,  0.1747, -0.2672,  0.0409,  0.1574,\n",
       "           0.0504,  0.1554],\n",
       "         [-0.1316,  0.2958,  0.2113,  0.0241,  0.1278,  0.1902,  0.0463, -0.0732,\n",
       "           0.1144,  0.0836],\n",
       "         [-0.0664,  0.2925, -0.2458, -0.0970, -0.2198,  0.1816, -0.0488,  0.1296,\n",
       "           0.0923,  0.0549],\n",
       "         [ 0.1826,  0.1515, -0.0534, -0.2120, -0.2301,  0.1569, -0.0766,  0.2629,\n",
       "           0.0677,  0.3014],\n",
       "         [ 0.2198, -0.1026,  0.2611, -0.3101, -0.0852, -0.1320, -0.1306, -0.2513,\n",
       "          -0.1187,  0.0141],\n",
       "         [ 0.0532,  0.2545,  0.2776,  0.1938,  0.1193,  0.0785,  0.2811, -0.1112,\n",
       "           0.0557,  0.0891],\n",
       "         [ 0.3127, -0.1195,  0.2869, -0.2078, -0.0088,  0.1775,  0.0030,  0.3083,\n",
       "           0.1521, -0.0832],\n",
       "         [ 0.0647, -0.1066, -0.1919,  0.1066, -0.1413,  0.2055, -0.2392, -0.1383,\n",
       "          -0.1670, -0.2209],\n",
       "         [-0.0303,  0.3056, -0.1828, -0.0109,  0.0223,  0.0658, -0.2513,  0.2405,\n",
       "           0.0708,  0.2903],\n",
       "         [-0.1411, -0.0516,  0.1915, -0.0095, -0.1649, -0.2240,  0.1420, -0.3153,\n",
       "          -0.2081,  0.1064]], requires_grad=True),\n",
       " Parameter containing:\n",
       " tensor([-0.3138, -0.1499, -0.2014, -0.0572, -0.2743,  0.2281,  0.1460, -0.3057,\n",
       "          0.2021, -0.1262], requires_grad=True),\n",
       " Parameter containing:\n",
       " tensor([[ 0.0494, -0.1040,  0.1764, -0.3024, -0.0696, -0.1968,  0.1073, -0.1445,\n",
       "           0.0988, -0.2761]], requires_grad=True),\n",
       " Parameter containing:\n",
       " tensor([0.2251], requires_grad=True)]"
      ]
     },
     "execution_count": 17,
     "metadata": {},
     "output_type": "execute_result"
    }
   ],
   "source": [
    "model = MLP(layout)\n",
    "list(model.parameters())"
   ]
  },
  {
   "cell_type": "markdown",
   "id": "061669b5-1cd6-4b2a-8569-c6a8d33ef62b",
   "metadata": {},
   "source": [
    "## Passing the Dataset in PyTorch format\n",
    "\n",
    "We need the training data to be in the format of PyTorch tensors. It takes some transformation compared to e.g. NumPy arrays, but it makes the training much more efficient."
   ]
  },
  {
   "cell_type": "code",
   "execution_count": 19,
   "id": "70d4d2af-8c56-4dc0-8ea7-c927a737ddf7",
   "metadata": {},
   "outputs": [
    {
     "name": "stdout",
     "output_type": "stream",
     "text": [
      "tensor([-5.0000, -4.8990, -4.7980, -4.6970, -4.5960, -4.4949, -4.3939, -4.2929,\n",
      "        -4.1919, -4.0909, -3.9899, -3.8889, -3.7879, -3.6869, -3.5859, -3.4848,\n",
      "        -3.3838, -3.2828, -3.1818, -3.0808, -2.9798, -2.8788, -2.7778, -2.6768,\n",
      "        -2.5758, -2.4747, -2.3737, -2.2727, -2.1717, -2.0707, -1.9697, -1.8687,\n",
      "        -1.7677, -1.6667, -1.5657, -1.4646, -1.3636, -1.2626, -1.1616, -1.0606,\n",
      "        -0.9596, -0.8586, -0.7576, -0.6566, -0.5556, -0.4545, -0.3535, -0.2525,\n",
      "        -0.1515, -0.0505,  0.0505,  0.1515,  0.2525,  0.3535,  0.4545,  0.5556,\n",
      "         0.6566,  0.7576,  0.8586,  0.9596,  1.0606,  1.1616,  1.2626,  1.3636,\n",
      "         1.4646,  1.5657,  1.6667,  1.7677,  1.8687,  1.9697,  2.0707,  2.1717,\n",
      "         2.2727,  2.3737,  2.4747,  2.5758,  2.6768,  2.7778,  2.8788,  2.9798,\n",
      "         3.0808,  3.1818,  3.2828,  3.3838,  3.4848,  3.5859,  3.6869,  3.7879,\n",
      "         3.8889,  3.9899,  4.0909,  4.1919,  4.2929,  4.3939,  4.4949,  4.5960,\n",
      "         4.6970,  4.7980,  4.8990,  5.0000])\n",
      "tensor([-131.6340, -129.9089, -136.5491, -138.9594, -117.2505, -122.9690,\n",
      "        -108.3430, -119.9726, -125.6601,  -89.9061, -104.0900, -106.7723,\n",
      "         -96.5022, -102.1160,  -86.2191,  -77.4175,  -38.7310,  -52.4271,\n",
      "         -40.8687,  -42.5253,  -30.8039,  -26.1723,   -6.8732,   -2.5120,\n",
      "          -5.9149,    6.1000,    7.0646,  -14.0894,   15.5351,   18.0561,\n",
      "          -0.2629,  -10.4641,   -2.6218,   -2.9392,    9.5743,  -15.3967,\n",
      "         -15.6946,  -31.8778,  -37.5637,  -28.0396,  -17.2627,  -37.7372,\n",
      "         -14.7588,  -23.3315,  -25.3200,  -12.8816,  -11.7699,   -1.7995,\n",
      "         -18.5482,    1.3586,  -10.1069,   -0.9897,   31.5649,   -6.9883,\n",
      "          11.4969,   24.6574,   32.5577,   28.0421,   27.6805,   21.1660,\n",
      "           7.8107,   12.9195,   19.4171,   25.5774,    2.6271,  -12.1827,\n",
      "           9.4560,   -4.3476,   -3.7635,   -3.5313,  -13.6421,    0.3615,\n",
      "         -14.9549,    2.5550,   -5.4919,  -17.1908,  -15.5035,   -3.9804,\n",
      "           9.1155,   35.4098,    8.1552,   40.5895,   27.1926,   47.6963,\n",
      "          54.6336,   40.9785,   74.9808,   61.8376,   69.0043,   68.4716,\n",
      "          84.9451,   84.1500,   65.3187,   74.0169,   68.4761,   86.2236,\n",
      "          92.5226,   82.9290,   76.5352,   75.1832])\n"
     ]
    }
   ],
   "source": [
    "from torch.utils.data import Dataset\n",
    "\n",
    "class Data(Dataset):\n",
    "    '''\n",
    "    Custom 'Dataset' object for our regression data.\n",
    "    Must implement these functions: __init__, __len__, and __getitem__.\n",
    "    '''\n",
    "    def __init__(self, X: np.array, Y: np.array, device=None):\n",
    "        self.X = torch.from_numpy(X.astype('float32'))\n",
    "        self.Y = torch.from_numpy(Y.astype('float32'))\n",
    "\n",
    "    def __len__(self):\n",
    "        return(len(self.X))\n",
    "\n",
    "    def __getitem__(self, idx):\n",
    "        return(self.X[idx], self.Y[idx])\n",
    "\n",
    "# instantiate Dataset object for current training data\n",
    "d = Data(xxx, yyy)\n",
    "print(d.X)\n",
    "print(d.Y)"
   ]
  },
  {
   "cell_type": "markdown",
   "id": "743e87f6-a211-4608-b877-4fa00cddf392",
   "metadata": {},
   "source": [
    "## Instantiate the DataLoader\n",
    "\n",
    "The DataLoader will tell PyTorch how to parse the training data. Here our training set is small, but in some cases it is efficient to train by batches."
   ]
  },
  {
   "cell_type": "code",
   "execution_count": 49,
   "id": "83258464-927e-425f-8c0f-6c31866b32a7",
   "metadata": {},
   "outputs": [],
   "source": [
    "from torch.utils.data import DataLoader\n",
    "\n",
    "traindata = DataLoader(d, batch_size=50 , shuffle=True)"
   ]
  },
  {
   "cell_type": "markdown",
   "id": "18ec3635-dee1-4618-bc11-2414942a27c3",
   "metadata": {},
   "source": [
    "# Training the model\n",
    "\n",
    "This requires:\n",
    "\n",
    "* choosing a loss function (e.g. MSE)\n",
    "\n",
    "* choosing an optimiser (e.g. SGD, Adam)\n",
    "\n",
    "* explicitly implementing a training loop"
   ]
  },
  {
   "cell_type": "code",
   "execution_count": 54,
   "id": "82867579-27fc-4e25-a5ed-db5bf53f3b25",
   "metadata": {},
   "outputs": [],
   "source": [
    "from tqdm.auto import tqdm\n",
    "\n",
    "loss_function = nn.MSELoss()\n",
    "layout = [1, 10, 10, 10, 1]\n",
    "model = MLP(layout)\n",
    "optimizer = torch.optim.Adam(model.parameters(), lr=1e-2)\n",
    "epochs = 10000\n",
    "\n",
    "logs = []"
   ]
  },
  {
   "cell_type": "code",
   "execution_count": 55,
   "id": "b76d25ec-92e0-4c8d-8f1e-945dc1bcd1da",
   "metadata": {},
   "outputs": [
    {
     "data": {
      "application/vnd.jupyter.widget-view+json": {
       "model_id": "676c81a2e12949f79cbce9cbf6a7f0f3",
       "version_major": 2,
       "version_minor": 0
      },
      "text/plain": [
       "  0%|          | 0/10000 [00:00<?, ?it/s]"
      ]
     },
     "metadata": {},
     "output_type": "display_data"
    },
    {
     "name": "stdout",
     "output_type": "stream",
     "text": [
      "Training finished.\n"
     ]
    }
   ],
   "source": [
    "with tqdm(range(0, epochs), total=epochs) as pbar:\n",
    "    for epoch in pbar:\n",
    "        current_loss = 0.0\n",
    "        # Iterate over the batches from the DataLoader\n",
    "        for i, batch in enumerate(traindata):\n",
    "            # Get inputs\n",
    "            x_, y_ = batch\n",
    "            # reset/Zero the gradients\n",
    "            optimizer.zero_grad()\n",
    "            \n",
    "            # Perform forward pass\n",
    "            # ypred = model(x_).squeeze()\n",
    "            x_2d = torch.reshape(x_, (len(x_), 1))\n",
    "            ypred = model(x_2d).squeeze()\n",
    "            # Compute loss\n",
    "            loss = loss_function(ypred, y_)\n",
    "            \n",
    "            # Perform backward pass\n",
    "            loss.backward()\n",
    "            # Perform optimization\n",
    "            optimizer.step()\n",
    "            # Print statistics\n",
    "            current_loss += loss.item()\n",
    "            \n",
    "        # display some progress ;)\n",
    "        #if (epoch + 1) % 2500 == 0:\n",
    "        #    print(f'Loss after epoch {epoch+1:5d}: {current_loss:.4g}')\n",
    "        pbar.set_postfix({\"loss\": float(current_loss)})\n",
    "        logs.append(current_loss)\n",
    "        current_loss = 0.0\n",
    "\n",
    "# Process is complete.\n",
    "print('Training finished.')"
   ]
  },
  {
   "cell_type": "markdown",
   "id": "de89dba2-ead8-4cd7-905a-8b0323f7e3f3",
   "metadata": {},
   "source": [
    "### What the loop does:\n",
    "\n",
    "It loads the data in one small batch.\n",
    "\n",
    "`optimizer.zero_grad()` is necessary because PyTorch accumulates the gradients over all batches, so we want to make sure the gradients are computed independently for each batch.\n",
    "\n",
    "Then we apply the current state of the model (at the very first iteration it will be all random), and compare it to the true value to get the `loss`.\n",
    "\n",
    "After that, `loss.backward()` does a lot of heavy lifting by computing the gradient of the loss with respect to all the model parameters that have `requires_grad=True` (in our case, all of them). If you need it, his gradient can be displayed with:\n",
    "\n",
    "            for p in model.parameters():\n",
    "                print(p.grad)\n",
    "\n",
    "or\n",
    "\n",
    "            for p in optimizer.param_groups[0]['params']:\n",
    "                print(p.grad)\n",
    "\n",
    "*\"Behind the scenes PyTorch tracks all operations on tensors with requires_grad == true and builds a computation graph during the forward pass. It knowns how the loss value was calculated and can automatically back-propagate the gradient step by step from the loss (or any scalar model output) to the model parameters.\"*\n",
    "\n",
    "Then `optimizer.step()` decides what the new weights should be, based on the gradient it just calculated, and on its own algorithm (Stochastic Gradient Decent, with or without momentum, etc)."
   ]
  },
  {
   "cell_type": "markdown",
   "id": "9bfd755a-9845-4dcb-972e-ba3eee3556ad",
   "metadata": {},
   "source": [
    "Since we kept track of the loss we can plot it:"
   ]
  },
  {
   "cell_type": "code",
   "execution_count": 56,
   "id": "8930e8a3-0193-4590-91ee-da37b9bf1954",
   "metadata": {},
   "outputs": [
    {
     "data": {
      "text/plain": [
       "Text(0, 0.5, 'MSE')"
      ]
     },
     "execution_count": 56,
     "metadata": {},
     "output_type": "execute_result"
    },
    {
     "data": {
      "image/png": "[encoded data removed]",
      "text/plain": [
       "<Figure size 640x480 with 1 Axes>"
      ]
     },
     "metadata": {},
     "output_type": "display_data"
    }
   ],
   "source": [
    "plt.loglog(logs)\n",
    "plt.xlabel('epoch')\n",
    "plt.ylabel('MSE')"
   ]
  },
  {
   "cell_type": "markdown",
   "id": "a44db614-e1fa-4080-82ec-e0b3a05c7e24",
   "metadata": {},
   "source": [
    "Adam has some hyperparameters: the learning rate (too small is slow, too large might miss the solution), learning rate decay (smaller updates near the optimum), and momentum decay (for which built-in defaults are usually good enough).\n",
    "\n",
    "Now we can see how the final model performs:"
   ]
  },
  {
   "cell_type": "code",
   "execution_count": 57,
   "id": "2241840f-39ba-4eb3-a1ee-8b65986102ce",
   "metadata": {},
   "outputs": [
    {
     "data": {
      "text/plain": [
       "Text(0, 0.5, 'y')"
      ]
     },
     "execution_count": 57,
     "metadata": {},
     "output_type": "execute_result"
    },
    {
     "data": {
      "image/png": "[encoded data removed]",
      "text/plain": [
       "<Figure size 640x480 with 1 Axes>"
      ]
     },
     "metadata": {},
     "output_type": "display_data"
    }
   ],
   "source": [
    "# let's check our predictions\n",
    "x_ = torch.from_numpy(xxx.astype('float32'))\n",
    "ypred = model(torch.reshape(x_, (len(x_), 1))).squeeze().cpu().detach().numpy()\n",
    "\n",
    "plt.plot(xxx, yyy, color='k')\n",
    "plt.plot(xxx, yyy, 'o', color='C0')\n",
    "plt.plot(xxx, ypred, 'o', color='C1')\n",
    "plt.xlabel('x')\n",
    "plt.ylabel('y')"
   ]
  }
 ],
 "metadata": {
  "kernelspec": {
   "display_name": "Python 3 (ipykernel)",
   "language": "python",
   "name": "python3"
  },
  "language_info": {
   "codemirror_mode": {
    "name": "ipython",
    "version": 3
   },
   "file_extension": ".py",
   "mimetype": "text/x-python",
   "name": "python",
   "nbconvert_exporter": "python",
   "pygments_lexer": "ipython3",
   "version": "3.12.7"
  }
 },
 "nbformat": 4,
 "nbformat_minor": 5
}
