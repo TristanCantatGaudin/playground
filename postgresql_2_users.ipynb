{
 "cells": [
  {
   "cell_type": "markdown",
   "id": "9d6e54b2-f3ff-4e0a-8cd8-30bc10c84f89",
   "metadata": {},
   "source": [
    "# Create users and manage permissions\n",
    "\n",
    "We create two schemas, insert dummy data, then create two users with different privileges."
   ]
  },
  {
   "cell_type": "code",
   "execution_count": 1,
   "id": "b367f9dc-845b-4c26-b28c-c3d2c48b4658",
   "metadata": {},
   "outputs": [],
   "source": [
    "import psycopg2\n",
    "\n",
    "conn = psycopg2.connect(\n",
    "    host=\"localhost\",\n",
    "    port=5432,\n",
    "    dbname=\"exampledatabase\",\n",
    "    user=\"tristan\",\n",
    "    password=\"hunter2\"\n",
    ")\n",
    "\n",
    "cur = conn.cursor()\n",
    "cur.execute(\"CREATE SCHEMA IF NOT EXISTS schema1\")\n",
    "cur.execute(\"CREATE TABLE IF NOT EXISTS schema1.test (id SERIAL PRIMARY KEY, name TEXT);\")\n",
    "cur.execute(\"INSERT INTO schema1.test (name) VALUES (%s)\", (\"Alice\",))\n",
    "conn.commit()\n",
    "\n",
    "cur.execute(\"CREATE SCHEMA IF NOT EXISTS schema2\")\n",
    "cur.execute(\"CREATE TABLE IF NOT EXISTS schema2.test (id SERIAL PRIMARY KEY, name TEXT);\")\n",
    "cur.execute(\"INSERT INTO schema1.test (name) VALUES (%s)\", (\"Bob\",))\n",
    "conn.commit()"
   ]
  },
  {
   "cell_type": "markdown",
   "id": "6e7c9b38-a8d2-4d42-9c9d-2ecd787907a9",
   "metadata": {},
   "source": [
    "See what we just created:"
   ]
  },
  {
   "cell_type": "code",
   "execution_count": 2,
   "id": "b17fdd89-14f7-438f-8c0e-5edf124a5876",
   "metadata": {},
   "outputs": [
    {
     "name": "stdout",
     "output_type": "stream",
     "text": [
      "\n",
      "Tables:\n",
      "- schema1.test\n",
      "- schema2.test\n"
     ]
    }
   ],
   "source": [
    "cur.execute(\"\"\"\n",
    "SELECT table_schema, table_name\n",
    "FROM information_schema.tables\n",
    "WHERE table_type = 'BASE TABLE'\n",
    "  AND table_schema NOT IN ('pg_catalog', 'information_schema')\n",
    "ORDER BY table_schema, table_name\n",
    "\"\"\")\n",
    "\n",
    "tables = cur.fetchall()\n",
    "print(\"\\nTables:\")\n",
    "for schema, table in tables:\n",
    "    print(f\"- {schema}.{table}\")"
   ]
  },
  {
   "cell_type": "markdown",
   "id": "7f52a32d-626f-45cf-add6-0eaffde0686e",
   "metadata": {},
   "source": [
    "### Create two users"
   ]
  },
  {
   "cell_type": "code",
   "execution_count": 3,
   "id": "516f626b-2d9c-4557-a3cf-276630f1d821",
   "metadata": {},
   "outputs": [],
   "source": [
    "cur.execute(\"CREATE USER readonly_user WITH PASSWORD 'readonly_pass'\")\n",
    "cur.execute(\"CREATE USER readwrite_user WITH PASSWORD 'readwrite_pass'\")\n",
    "conn.commit()"
   ]
  },
  {
   "cell_type": "markdown",
   "id": "f4f02269-3c28-464a-b514-299dd6e53f00",
   "metadata": {},
   "source": [
    "### Permissions for user 1 (read only, on schema1)"
   ]
  },
  {
   "cell_type": "code",
   "execution_count": 4,
   "id": "a6499e84-ad41-4a53-94b2-2372e169f7bf",
   "metadata": {},
   "outputs": [],
   "source": [
    "# Grant CONNECT and SELECT on the database/table\n",
    "cur.execute(\"GRANT CONNECT ON DATABASE exampledatabase TO readonly_user\")\n",
    "cur.execute(\"GRANT USAGE ON SCHEMA schema1 TO readonly_user\")\n",
    "cur.execute(\"GRANT SELECT ON schema1.test TO readonly_user\")\n",
    "conn.commit()"
   ]
  },
  {
   "cell_type": "markdown",
   "id": "2a139c33-5dfa-46f1-8987-fc6546c0728d",
   "metadata": {},
   "source": [
    "Remark 1: `cur.execute(\"GRANT SELECT ON ALL TABLES IN SCHEMA schema1 TO readonly_user\")` is also valid to grant permission to all existing tables in a schema.\n",
    "\n",
    "Remark 2: `cur.execute(\"ALTER DEFAULT PRIVILEGES IN SCHEMA schema1 GRANT SELECT ON TABLES TO readonly_user\")` would be used to grant permission on future tables. "
   ]
  },
  {
   "cell_type": "markdown",
   "id": "33395c37-e63f-433c-8eee-5876e5bc39c7",
   "metadata": {},
   "source": [
    "### Permissions for user 2 (read/write on schema2)"
   ]
  },
  {
   "cell_type": "code",
   "execution_count": 5,
   "id": "2dadf6e9-f191-4f40-9067-55a98578a559",
   "metadata": {},
   "outputs": [],
   "source": [
    "cur.execute(\"GRANT CONNECT ON DATABASE exampledatabase TO readwrite_user\")\n",
    "cur.execute(\"GRANT USAGE ON SCHEMA schema2 TO readwrite_user\")\n",
    "cur.execute(\"GRANT SELECT, INSERT, UPDATE, DELETE ON schema2.test TO readwrite_user\")\n",
    "conn.commit()"
   ]
  },
  {
   "cell_type": "markdown",
   "id": "b2a00034-b027-4be0-abac-b2f9705ce249",
   "metadata": {},
   "source": [
    "### See who can do what\n",
    "\n",
    "Remark 1: `c.relkind` can also be `v` for a view and `m` for a materialized view, a slightly longer query can list them too. \n",
    "\n",
    "Remark 2: functions, procedures, aggregates, and window functions are listed in `pg_proc`, so if you want to list them too along with their permissions etc you need a separate query into the catalogue."
   ]
  },
  {
   "cell_type": "code",
   "execution_count": 6,
   "id": "e9f695d2-a1c3-4534-9c47-32b925455a97",
   "metadata": {},
   "outputs": [
    {
     "name": "stdout",
     "output_type": "stream",
     "text": [
      "Schema          Table                     Owner                Grantee              Privilege      \n",
      "-----------------------------------------------------------------------------------------------\n",
      "schema1         test                      tristan              readonly_user        SELECT         \n",
      "schema1         test                      tristan              tristan              SELECT         \n",
      "schema1         test                      tristan              tristan              UPDATE         \n",
      "schema1         test                      tristan              tristan              DELETE         \n",
      "schema1         test                      tristan              tristan              INSERT         \n",
      "schema1         test                      tristan              tristan              REFERENCES     \n",
      "schema1         test                      tristan              tristan              TRIGGER        \n",
      "schema1         test                      tristan              tristan              TRUNCATE       \n",
      "schema2         test                      tristan              readwrite_user       DELETE         \n",
      "schema2         test                      tristan              readwrite_user       INSERT         \n",
      "schema2         test                      tristan              readwrite_user       SELECT         \n",
      "schema2         test                      tristan              readwrite_user       UPDATE         \n",
      "schema2         test                      tristan              tristan              TRUNCATE       \n",
      "schema2         test                      tristan              tristan              REFERENCES     \n",
      "schema2         test                      tristan              tristan              TRIGGER        \n",
      "schema2         test                      tristan              tristan              INSERT         \n",
      "schema2         test                      tristan              tristan              SELECT         \n",
      "schema2         test                      tristan              tristan              UPDATE         \n",
      "schema2         test                      tristan              tristan              DELETE         \n"
     ]
    }
   ],
   "source": [
    "cur.execute(\"\"\"\n",
    "SELECT\n",
    "    n.nspname AS schema,\n",
    "    c.relname AS table,\n",
    "    r.rolname AS owner,\n",
    "    g.grantee,\n",
    "    g.privilege_type\n",
    "FROM\n",
    "    pg_class c\n",
    "JOIN\n",
    "    pg_namespace n ON n.oid = c.relnamespace\n",
    "JOIN\n",
    "    pg_roles r ON r.oid = c.relowner\n",
    "JOIN\n",
    "    information_schema.role_table_grants g\n",
    "    ON g.table_name = c.relname AND g.table_schema = n.nspname\n",
    "WHERE\n",
    "    c.relkind = 'r'  -- only base tables\n",
    "    AND n.nspname NOT IN ('pg_catalog', 'information_schema')\n",
    "ORDER BY\n",
    "    n.nspname, c.relname, g.grantee;\n",
    "\"\"\")\n",
    "\n",
    "rows = cur.fetchall()\n",
    "print(f\"{'Schema':<15} {'Table':<25} {'Owner':<20} {'Grantee':<20} {'Privilege':<15}\")\n",
    "print(\"-\" * 95)\n",
    "for schema, table, owner, grantee, privilege in rows:\n",
    "    print(f\"{schema:<15} {table:<25} {owner:<20} {grantee:<20} {privilege:<15}\")"
   ]
  },
  {
   "cell_type": "markdown",
   "id": "7ce33f1d-2f04-442f-97e2-c0112bc3d5c1",
   "metadata": {},
   "source": [
    "## Reconnect as an other user and list all tables again"
   ]
  },
  {
   "cell_type": "code",
   "execution_count": 7,
   "id": "0609232f-3305-4c3c-ac7c-003defc015d7",
   "metadata": {},
   "outputs": [],
   "source": [
    "conn.close()"
   ]
  },
  {
   "cell_type": "code",
   "execution_count": 8,
   "id": "c18033f1-4d62-4a17-8780-ff592ee3410b",
   "metadata": {},
   "outputs": [],
   "source": [
    "conn = psycopg2.connect(\n",
    "    host=\"localhost\",\n",
    "    port=5432,\n",
    "    dbname=\"exampledatabase\",\n",
    "    user=\"readonly_user\",\n",
    "    password=\"readonly_pass\"\n",
    ")\n",
    "\n",
    "cur = conn.cursor()"
   ]
  },
  {
   "cell_type": "code",
   "execution_count": 9,
   "id": "0a5cbe7b-3c47-4a9d-84b4-e949d30d6d7e",
   "metadata": {},
   "outputs": [
    {
     "name": "stdout",
     "output_type": "stream",
     "text": [
      "Schema          Table                     Owner                Grantee              Privilege      \n",
      "-----------------------------------------------------------------------------------------------\n",
      "schema1         test                      tristan              readonly_user        SELECT         \n"
     ]
    }
   ],
   "source": [
    "cur.execute(\"\"\"\n",
    "SELECT\n",
    "    n.nspname AS schema,\n",
    "    c.relname AS table,\n",
    "    r.rolname AS owner,\n",
    "    g.grantee,\n",
    "    g.privilege_type\n",
    "FROM\n",
    "    pg_class c\n",
    "JOIN\n",
    "    pg_namespace n ON n.oid = c.relnamespace\n",
    "JOIN\n",
    "    pg_roles r ON r.oid = c.relowner\n",
    "JOIN\n",
    "    information_schema.role_table_grants g\n",
    "    ON g.table_name = c.relname AND g.table_schema = n.nspname\n",
    "WHERE\n",
    "    c.relkind = 'r'  -- only base tables\n",
    "    AND n.nspname NOT IN ('pg_catalog', 'information_schema')\n",
    "ORDER BY\n",
    "    n.nspname, c.relname, g.grantee;\n",
    "\"\"\")\n",
    "\n",
    "rows = cur.fetchall()\n",
    "print(f\"{'Schema':<15} {'Table':<25} {'Owner':<20} {'Grantee':<20} {'Privilege':<15}\")\n",
    "print(\"-\" * 95)\n",
    "for schema, table, owner, grantee, privilege in rows:\n",
    "    print(f\"{schema:<15} {table:<25} {owner:<20} {grantee:<20} {privilege:<15}\")"
   ]
  },
  {
   "cell_type": "markdown",
   "id": "27215b03-f498-430a-b63b-99565791c2a2",
   "metadata": {},
   "source": [
    "This time, only `schema1` is visible!"
   ]
  },
  {
   "cell_type": "code",
   "execution_count": 10,
   "id": "8a1f5737-4a09-449c-aea9-9163208d34af",
   "metadata": {},
   "outputs": [],
   "source": [
    "conn.close()"
   ]
  }
 ],
 "metadata": {
  "kernelspec": {
   "display_name": "Python 3 (ipykernel)",
   "language": "python",
   "name": "python3"
  },
  "language_info": {
   "codemirror_mode": {
    "name": "ipython",
    "version": 3
   },
   "file_extension": ".py",
   "mimetype": "text/x-python",
   "name": "python",
   "nbconvert_exporter": "python",
   "pygments_lexer": "ipython3",
   "version": "3.13.3"
  }
 },
 "nbformat": 4,
 "nbformat_minor": 5
}
