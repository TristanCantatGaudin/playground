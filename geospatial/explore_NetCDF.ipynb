{
 "cells": [
  {
   "cell_type": "markdown",
   "id": "8747a708-8ce1-42b2-95cc-cac3e168b663",
   "metadata": {},
   "source": [
    "# Reading a NetCDF file\n",
    "\n",
    "First query data through `openeo` and save it locally:"
   ]
  },
  {
   "cell_type": "code",
   "execution_count": 1,
   "id": "a84b5bbe-37ab-4f27-99f3-728478bf1912",
   "metadata": {},
   "outputs": [
    {
     "name": "stdout",
     "output_type": "stream",
     "text": [
      "Authenticated using refresh token.\n"
     ]
    }
   ],
   "source": [
    "import openeo\n",
    "import xarray\n",
    "import matplotlib.pyplot as plt\n",
    "\n",
    "connection = openeo.connect(url=\"openeo.dataspace.copernicus.eu\")\n",
    "connection.authenticate_oidc()\n",
    "\n",
    "s2_cube = connection.load_collection(\n",
    "    \"SENTINEL2_L2A\",\n",
    "    temporal_extent=(\"2022-07-12\", \"2022-07-18\"),\n",
    "    spatial_extent={\n",
    "        \"west\": -1.23,\n",
    "        \"south\": 44.51,\n",
    "        \"east\": -1.12,\n",
    "        \"north\": 44.59,\n",
    "        \"crs\": \"EPSG:4326\",\n",
    "    },\n",
    ")\n",
    "\n",
    "file_name = \"fire_la_teste_all_bands.nc\"\n",
    "s2_cube.download(file_name)"
   ]
  },
  {
   "cell_type": "markdown",
   "id": "384b7d8c-d932-4f34-bafc-80640e40fd10",
   "metadata": {},
   "source": [
    "We now have a 17MB `.nc` file on disk."
   ]
  },
  {
   "cell_type": "markdown",
   "id": "4c1b2445-19a2-4fe5-8590-0513a240ec9a",
   "metadata": {},
   "source": [
    "## Opening it with h5py\n",
    "\n",
    "List top-level groups/datasets"
   ]
  },
  {
   "cell_type": "code",
   "execution_count": 2,
   "id": "1e7f8d92-2316-4cc0-af36-8d768335f67d",
   "metadata": {},
   "outputs": [
    {
     "name": "stdout",
     "output_type": "stream",
     "text": [
      "['t', 'x', 'y', 'crs', 'B01', 'B02', 'B03', 'B04', 'B05', 'B06', 'B07', 'B08', 'B8A', 'B09', 'B11', 'B12', 'WVP', 'AOT', 'SCL', 'sunAzimuthAngles', 'sunZenithAngles', 'viewAzimuthMean', 'viewZenithMean', 'CLD', 'SNW']\n"
     ]
    }
   ],
   "source": [
    "import h5py\n",
    "\n",
    "with h5py.File(file_name, 'r') as f:\n",
    "    print(list(f.keys()))"
   ]
  },
  {
   "cell_type": "markdown",
   "id": "6ee11516-94cc-4b00-8f77-991921d7fc30",
   "metadata": {},
   "source": [
    "Exploring the full file and the metadata of individual dataset:"
   ]
  },
  {
   "cell_type": "code",
   "execution_count": 3,
   "id": "aab7c0c6-9fdd-44e5-a453-868e0caa11c3",
   "metadata": {},
   "outputs": [
    {
     "name": "stdout",
     "output_type": "stream",
     "text": [
      "(2,)\n",
      "[11880 11885]\n",
      "  CLASS: b'DIMENSION_SCALE'\n",
      "  NAME: b't'\n",
      "  _Netcdf4Dimid: 0\n",
      "  standard_name: b't'\n",
      "  long_name: b't'\n",
      "  units: b'days since 1990-01-01'\n",
      "  axis: b'T'\n",
      "  REFERENCE_LIST: [(<HDF5 object reference>, 0) (<HDF5 object reference>, 0)\n",
      " (<HDF5 object reference>, 0) (<HDF5 object reference>, 0)\n",
      " (<HDF5 object reference>, 0) (<HDF5 object reference>, 0)\n",
      " (<HDF5 object reference>, 0) (<HDF5 object reference>, 0)\n",
      " (<HDF5 object reference>, 0) (<HDF5 object reference>, 0)\n",
      " (<HDF5 object reference>, 0) (<HDF5 object reference>, 0)\n",
      " (<HDF5 object reference>, 0) (<HDF5 object reference>, 0)\n",
      " (<HDF5 object reference>, 0) (<HDF5 object reference>, 0)\n",
      " (<HDF5 object reference>, 0) (<HDF5 object reference>, 0)\n",
      " (<HDF5 object reference>, 0) (<HDF5 object reference>, 0)\n",
      " (<HDF5 object reference>, 0)]\n"
     ]
    }
   ],
   "source": [
    "with h5py.File(file_name, 'r') as f:\n",
    "    dset = f['/t']\n",
    "    print(dset.shape)\n",
    "    print(dset[:]) # to print the data inside a given slice\n",
    "    for key, val in dset.attrs.items():\n",
    "        print(f\"  {key}: {val}\")"
   ]
  },
  {
   "cell_type": "markdown",
   "id": "1b97834c-79da-4ffe-9c24-6ae9b4856ade",
   "metadata": {},
   "source": [
    "Resolving references:"
   ]
  },
  {
   "cell_type": "code",
   "execution_count": 4,
   "id": "9089a598-11b0-47f6-9bef-7120d3ac9582",
   "metadata": {},
   "outputs": [
    {
     "name": "stdout",
     "output_type": "stream",
     "text": [
      "Reference 0: /B01 - <class 'h5py._hl.dataset.Dataset'>\n",
      "Reference 1: /B02 - <class 'h5py._hl.dataset.Dataset'>\n",
      "Reference 2: /B03 - <class 'h5py._hl.dataset.Dataset'>\n",
      "Reference 3: /B04 - <class 'h5py._hl.dataset.Dataset'>\n",
      "Reference 4: /B05 - <class 'h5py._hl.dataset.Dataset'>\n",
      "Reference 5: /B06 - <class 'h5py._hl.dataset.Dataset'>\n",
      "Reference 6: /B07 - <class 'h5py._hl.dataset.Dataset'>\n",
      "Reference 7: /B08 - <class 'h5py._hl.dataset.Dataset'>\n",
      "Reference 8: /B8A - <class 'h5py._hl.dataset.Dataset'>\n",
      "Reference 9: /B09 - <class 'h5py._hl.dataset.Dataset'>\n",
      "Reference 10: /B11 - <class 'h5py._hl.dataset.Dataset'>\n",
      "Reference 11: /B12 - <class 'h5py._hl.dataset.Dataset'>\n",
      "Reference 12: /WVP - <class 'h5py._hl.dataset.Dataset'>\n",
      "Reference 13: /AOT - <class 'h5py._hl.dataset.Dataset'>\n",
      "Reference 14: /SCL - <class 'h5py._hl.dataset.Dataset'>\n",
      "Reference 15: /sunAzimuthAngles - <class 'h5py._hl.dataset.Dataset'>\n",
      "Reference 16: /sunZenithAngles - <class 'h5py._hl.dataset.Dataset'>\n",
      "Reference 17: /viewAzimuthMean - <class 'h5py._hl.dataset.Dataset'>\n",
      "Reference 18: /viewZenithMean - <class 'h5py._hl.dataset.Dataset'>\n",
      "Reference 19: /CLD - <class 'h5py._hl.dataset.Dataset'>\n",
      "Reference 20: /SNW - <class 'h5py._hl.dataset.Dataset'>\n"
     ]
    }
   ],
   "source": [
    "import h5py\n",
    "\n",
    "with h5py.File(file_name, 'r') as f:\n",
    "    obj_with_refs = f['/t'] \n",
    "    ref_list = obj_with_refs.attrs['REFERENCE_LIST']\n",
    "    # Dereference and print what each reference points to:\n",
    "    for i, ref in enumerate(ref_list):\n",
    "        target = f[ref[0]]  # ref is a tuple: (object_reference, 0)\n",
    "        print(f\"Reference {i}: {target.name} - {type(target)}\")"
   ]
  },
  {
   "cell_type": "markdown",
   "id": "8f3ff915-22d7-47cf-bccc-9e1df3f7af12",
   "metadata": {},
   "source": [
    "## Using xarray\n",
    "\n",
    "also requires `netcdf4`"
   ]
  },
  {
   "cell_type": "code",
   "execution_count": 5,
   "id": "d1c0570e-032b-4710-8e37-44a205ea4a8e",
   "metadata": {},
   "outputs": [
    {
     "name": "stdout",
     "output_type": "stream",
     "text": [
      "<xarray.Dataset> Size: 137MB\n",
      "Dimensions:           (t: 2, x: 895, y: 909)\n",
      "Coordinates:\n",
      "  * t                 (t) datetime64[ns] 16B 2022-07-12 2022-07-17\n",
      "  * x                 (x) float64 7kB 6.405e+05 6.405e+05 ... 6.494e+05\n",
      "  * y                 (y) float64 7kB 4.939e+06 4.939e+06 ... 4.93e+06 4.93e+06\n",
      "Data variables: (12/22)\n",
      "    crs               |S1 1B ...\n",
      "    B01               (t, y, x) float32 7MB ...\n",
      "    B02               (t, y, x) float32 7MB ...\n",
      "    B03               (t, y, x) float32 7MB ...\n",
      "    B04               (t, y, x) float32 7MB ...\n",
      "    B05               (t, y, x) float32 7MB ...\n",
      "    ...                ...\n",
      "    sunAzimuthAngles  (t, y, x) float32 7MB ...\n",
      "    sunZenithAngles   (t, y, x) float32 7MB ...\n",
      "    viewAzimuthMean   (t, y, x) float32 7MB ...\n",
      "    viewZenithMean    (t, y, x) float32 7MB ...\n",
      "    CLD               (t, y, x) float32 7MB ...\n",
      "    SNW               (t, y, x) float32 7MB ...\n",
      "Attributes:\n",
      "    Conventions:  CF-1.9\n",
      "    institution:  openEO platform\n"
     ]
    }
   ],
   "source": [
    "import xarray\n",
    "\n",
    "ds = xarray.open_dataset(file_name)\n",
    "print(ds)"
   ]
  },
  {
   "cell_type": "code",
   "execution_count": 6,
   "id": "6d9f4e4d-26bd-482f-8edf-3260b3a75811",
   "metadata": {},
   "outputs": [
    {
     "name": "stdout",
     "output_type": "stream",
     "text": [
      "Coordinates:\n",
      "  * t        (t) datetime64[ns] 16B 2022-07-12 2022-07-17\n",
      "  * x        (x) float64 7kB 6.405e+05 6.405e+05 ... 6.494e+05 6.494e+05\n",
      "  * y        (y) float64 7kB 4.939e+06 4.939e+06 4.939e+06 ... 4.93e+06 4.93e+06\n",
      "Data variables:\n",
      "    crs               |S1 1B ...\n",
      "    B01               (t, y, x) float32 7MB ...\n",
      "    B02               (t, y, x) float32 7MB ...\n",
      "    B03               (t, y, x) float32 7MB ...\n",
      "    B04               (t, y, x) float32 7MB ...\n",
      "    B05               (t, y, x) float32 7MB ...\n",
      "    B06               (t, y, x) float32 7MB ...\n",
      "    B07               (t, y, x) float32 7MB ...\n",
      "    B08               (t, y, x) float32 7MB ...\n",
      "    B8A               (t, y, x) float32 7MB ...\n",
      "    B09               (t, y, x) float32 7MB ...\n",
      "    B11               (t, y, x) float32 7MB ...\n",
      "    B12               (t, y, x) float32 7MB ...\n",
      "    WVP               (t, y, x) float32 7MB ...\n",
      "    AOT               (t, y, x) float32 7MB ...\n",
      "    SCL               (t, y, x) float32 7MB ...\n",
      "    sunAzimuthAngles  (t, y, x) float32 7MB ...\n",
      "    sunZenithAngles   (t, y, x) float32 7MB ...\n",
      "    viewAzimuthMean   (t, y, x) float32 7MB ...\n",
      "    viewZenithMean    (t, y, x) float32 7MB ...\n",
      "    CLD               (t, y, x) float32 7MB ...\n",
      "    SNW               (t, y, x) float32 7MB ...\n"
     ]
    }
   ],
   "source": [
    "print(ds.coords) \n",
    "print(ds.data_vars)"
   ]
  },
  {
   "cell_type": "markdown",
   "id": "fe3cd2ac-be4e-4dfb-af9f-fd8f9bb488f8",
   "metadata": {},
   "source": [
    "`xarray` can automatically spot coordinates VS datasets!"
   ]
  },
  {
   "cell_type": "code",
   "execution_count": 7,
   "id": "f5d45a29-e0ee-4073-bdef-907d1dd97371",
   "metadata": {},
   "outputs": [
    {
     "name": "stdout",
     "output_type": "stream",
     "text": [
      "[[[654. 448. 448. ... 247. 247. 247.]\n",
      "  [654. 448. 448. ... 247. 247. 247.]\n",
      "  [654. 448. 448. ... 247. 247. 247.]\n",
      "  ...\n",
      "  [220. 213. 213. ...  nan  nan  nan]\n",
      "  [220. 213. 213. ...  nan  nan  nan]\n",
      "  [220. 213. 213. ...  nan  nan  nan]]\n",
      "\n",
      " [[321. 137. 137. ...  61.  61.  61.]\n",
      "  [321. 137. 137. ...  61.  61.  61.]\n",
      "  [321. 137. 137. ...  61.  61.  61.]\n",
      "  ...\n",
      "  [200. 196. 196. ...  nan  nan  nan]\n",
      "  [200. 196. 196. ...  nan  nan  nan]\n",
      "  [200. 196. 196. ...  nan  nan  nan]]]\n",
      "The data is loaded as: ndarray\n"
     ]
    }
   ],
   "source": [
    "print(ds[\"B01\"].data)\n",
    "print(f\"The data is loaded as: {type(ds[\"B01\"].data).__name__}\")"
   ]
  },
  {
   "cell_type": "markdown",
   "id": "76f0dfb8-393d-4743-8677-c9cc4edbac72",
   "metadata": {},
   "source": [
    "## Lazy loading with xarray\n",
    "\n",
    "This loads the data as a Dask `Array` instead of a numpy `ndarray`."
   ]
  },
  {
   "cell_type": "code",
   "execution_count": 8,
   "id": "01123a5e-6249-447a-9238-6b287d22244a",
   "metadata": {},
   "outputs": [
    {
     "name": "stdout",
     "output_type": "stream",
     "text": [
      "Frozen({'t': (1, 1), 'y': (256, 256, 256, 141), 'x': (256, 256, 256, 127)})\n"
     ]
    }
   ],
   "source": [
    "ds = xarray.open_dataset(file_name, chunks={})\n",
    "print(ds.chunks)"
   ]
  },
  {
   "cell_type": "code",
   "execution_count": 9,
   "id": "6b184ca4-436a-49e2-b564-88eec2388673",
   "metadata": {},
   "outputs": [
    {
     "name": "stdout",
     "output_type": "stream",
     "text": [
      "dask.array<open_dataset-B01, shape=(2, 909, 895), dtype=float32, chunksize=(1, 256, 256), chunktype=numpy.ndarray>\n",
      "The data is loaded as: Array\n"
     ]
    }
   ],
   "source": [
    "print(ds[\"B01\"].data)\n",
    "print(f\"The data is loaded as: {type(ds['B01'].data).__name__}\")"
   ]
  },
  {
   "cell_type": "markdown",
   "id": "0a5d76ca-f277-4146-9f56-149815a7025a",
   "metadata": {},
   "source": [
    "In the lazy loading case, if you want to access the values you need to use `.values` instead of `.data`:"
   ]
  },
  {
   "cell_type": "code",
   "execution_count": 10,
   "id": "536beb83-ad0f-4c7f-8616-dab5789dd94a",
   "metadata": {},
   "outputs": [
    {
     "name": "stdout",
     "output_type": "stream",
     "text": [
      "[[[654. 448. 448. ... 247. 247. 247.]\n",
      "  [654. 448. 448. ... 247. 247. 247.]\n",
      "  [654. 448. 448. ... 247. 247. 247.]\n",
      "  ...\n",
      "  [220. 213. 213. ...  nan  nan  nan]\n",
      "  [220. 213. 213. ...  nan  nan  nan]\n",
      "  [220. 213. 213. ...  nan  nan  nan]]\n",
      "\n",
      " [[321. 137. 137. ...  61.  61.  61.]\n",
      "  [321. 137. 137. ...  61.  61.  61.]\n",
      "  [321. 137. 137. ...  61.  61.  61.]\n",
      "  ...\n",
      "  [200. 196. 196. ...  nan  nan  nan]\n",
      "  [200. 196. 196. ...  nan  nan  nan]\n",
      "  [200. 196. 196. ...  nan  nan  nan]]]\n",
      "The data is loaded as: ndarray\n"
     ]
    }
   ],
   "source": [
    "print(ds[\"B01\"].values)\n",
    "print(f\"The data is loaded as: {type(ds[\"B01\"].values).__name__}\")"
   ]
  }
 ],
 "metadata": {
  "kernelspec": {
   "display_name": "Python 3 (ipykernel)",
   "language": "python",
   "name": "python3"
  },
  "language_info": {
   "codemirror_mode": {
    "name": "ipython",
    "version": 3
   },
   "file_extension": ".py",
   "mimetype": "text/x-python",
   "name": "python",
   "nbconvert_exporter": "python",
   "pygments_lexer": "ipython3",
   "version": "3.13.3"
  }
 },
 "nbformat": 4,
 "nbformat_minor": 5
}
