{
 "cells": [
  {
   "cell_type": "code",
   "execution_count": 1,
   "id": "655edcda",
   "metadata": {},
   "outputs": [],
   "source": [
    "import io\n",
    "import zstandard as zstd\n",
    "from pathlib import Path\n",
    "import json\n",
    "import sys\n",
    "from tqdm.auto import tqdm"
   ]
  },
  {
   "cell_type": "code",
   "execution_count": 2,
   "id": "41265f10",
   "metadata": {},
   "outputs": [],
   "source": [
    "fileName = 'lichess_db_standard_rated_2025-07.pgn.zst'\n",
    "\n",
    "chunkCounter = 0\n",
    "\n",
    "lastURL = ''\n",
    "lastWhiteRating = ''\n",
    "lastBlackRating = ''\n",
    "lastSpeed = ''\n",
    "viennaURLs = []"
   ]
  },
  {
   "cell_type": "markdown",
   "id": "2f0a384c",
   "metadata": {},
   "source": [
    "We also use `tqdm` to display a progress bar. It takes about 14,000 chunks of 16MB each to parse the entire (uncompressed) data."
   ]
  },
  {
   "cell_type": "code",
   "execution_count": 3,
   "id": "61416916",
   "metadata": {},
   "outputs": [
    {
     "data": {
      "application/vnd.jupyter.widget-view+json": {
       "model_id": "bc68caf98148432980521e7983cc6537",
       "version_major": 2,
       "version_minor": 0
      },
      "text/plain": [
       "  0%|          | 0/14000 [00:00<?, ?it/s]"
      ]
     },
     "metadata": {},
     "output_type": "display_data"
    },
    {
     "name": "stdout",
     "output_type": "stream",
     "text": [
      "CPU times: user 10min 33s, sys: 35.7 s, total: 11min 9s\n",
      "Wall time: 11min 10s\n"
     ]
    }
   ],
   "source": [
    "%%time\n",
    "\n",
    "pbar = tqdm(total=14000)\n",
    "\n",
    "\n",
    "with open(fileName, 'rb') as fh:\n",
    "    dctx = zstd.ZstdDecompressor(max_window_size=2147483648)\n",
    "    with dctx.stream_reader(fh) as reader:\n",
    "        previous_line = \"\"\n",
    "        while True:\n",
    "            chunk = reader.read(2**24)  # 16mb chunks\n",
    "            if not chunk:\n",
    "                break\n",
    "            string_data = chunk.decode('utf-8')\n",
    "            lines = string_data.split(\"\\n\")\n",
    "            for i, line in enumerate(lines[:-1]):\n",
    "                #\n",
    "                if line.startswith('[Site'):\n",
    "                    lastURL = line.split('\"')[1]\n",
    "                elif line.startswith('[WhiteElo'):\n",
    "                    lastWhiteRating = line.split('\"')[1]\n",
    "                elif line.startswith('[BlackElo'):\n",
    "                    lastBlackRating = line.split('\"')[1]\n",
    "                elif line.startswith('[TimeControl'):\n",
    "                    lastSpeed = line.split('\"')[1]\n",
    "                elif ('Bxf7+' in line) and ('1. e4' in line) and (' 1... e5' in line) and (' 2. Nc3' in line) and (' 2... Nc6' in line) and (' 3. Bc4' in line):\n",
    "                    if ('300+' in lastSpeed or '600+' in lastSpeed) and int(lastWhiteRating)>1600:\n",
    "                        viennaURLs.append( [lastURL,lastWhiteRating,lastBlackRating,lastSpeed] )\n",
    "                        lastURL = ''\n",
    "                        lastBlackRating = ''\n",
    "                        lastSpeed = ''\n",
    "            chunkCounter += 1\n",
    "            pbar.update(1)\n",
    "\n",
    "\n",
    "pbar.close()"
   ]
  },
  {
   "cell_type": "code",
   "execution_count": 5,
   "id": "d68b56a5",
   "metadata": {},
   "outputs": [],
   "source": [
    "# Write them out to a csv file:\n",
    "import pandas as pd\n",
    "columns = [\"url\",\"white\",\"black\",\"time\"] \n",
    "pd.DataFrame(viennaURLs, columns = columns).to_csv(\"vienna_extracted_blitz_rapid_2025-07.csv\",index=False)"
   ]
  },
  {
   "cell_type": "code",
   "execution_count": 6,
   "id": "4fc496ac",
   "metadata": {},
   "outputs": [
    {
     "data": {
      "text/html": [
       "<div>\n",
       "<style scoped>\n",
       "    .dataframe tbody tr th:only-of-type {\n",
       "        vertical-align: middle;\n",
       "    }\n",
       "\n",
       "    .dataframe tbody tr th {\n",
       "        vertical-align: top;\n",
       "    }\n",
       "\n",
       "    .dataframe thead th {\n",
       "        text-align: right;\n",
       "    }\n",
       "</style>\n",
       "<table border=\"1\" class=\"dataframe\">\n",
       "  <thead>\n",
       "    <tr style=\"text-align: right;\">\n",
       "      <th></th>\n",
       "      <th>url</th>\n",
       "      <th>white</th>\n",
       "      <th>black</th>\n",
       "      <th>time</th>\n",
       "    </tr>\n",
       "  </thead>\n",
       "  <tbody>\n",
       "    <tr>\n",
       "      <th>0</th>\n",
       "      <td>https://lichess.org/izAhECFS</td>\n",
       "      <td>1954</td>\n",
       "      <td>1869</td>\n",
       "      <td>600+0</td>\n",
       "    </tr>\n",
       "    <tr>\n",
       "      <th>1</th>\n",
       "      <td>https://lichess.org/UN5s3xXI</td>\n",
       "      <td>1931</td>\n",
       "      <td>1904</td>\n",
       "      <td>600+0</td>\n",
       "    </tr>\n",
       "    <tr>\n",
       "      <th>2</th>\n",
       "      <td>https://lichess.org/WYh1IOD4</td>\n",
       "      <td>1646</td>\n",
       "      <td>1671</td>\n",
       "      <td>300+0</td>\n",
       "    </tr>\n",
       "    <tr>\n",
       "      <th>3</th>\n",
       "      <td>https://lichess.org/pRbVapao</td>\n",
       "      <td>1694</td>\n",
       "      <td>1679</td>\n",
       "      <td>300+3</td>\n",
       "    </tr>\n",
       "    <tr>\n",
       "      <th>4</th>\n",
       "      <td>https://lichess.org/rZZAdqu5</td>\n",
       "      <td>1998</td>\n",
       "      <td>1987</td>\n",
       "      <td>600+0</td>\n",
       "    </tr>\n",
       "    <tr>\n",
       "      <th>...</th>\n",
       "      <td>...</td>\n",
       "      <td>...</td>\n",
       "      <td>...</td>\n",
       "      <td>...</td>\n",
       "    </tr>\n",
       "    <tr>\n",
       "      <th>1575</th>\n",
       "      <td>https://lichess.org/W3BLVfNM</td>\n",
       "      <td>1637</td>\n",
       "      <td>1761</td>\n",
       "      <td>300+0</td>\n",
       "    </tr>\n",
       "    <tr>\n",
       "      <th>1576</th>\n",
       "      <td>https://lichess.org/pTkeuC0h</td>\n",
       "      <td>1847</td>\n",
       "      <td>1844</td>\n",
       "      <td>300+0</td>\n",
       "    </tr>\n",
       "    <tr>\n",
       "      <th>1577</th>\n",
       "      <td>https://lichess.org/34viWzIM</td>\n",
       "      <td>1699</td>\n",
       "      <td>1681</td>\n",
       "      <td>600+0</td>\n",
       "    </tr>\n",
       "    <tr>\n",
       "      <th>1578</th>\n",
       "      <td>https://lichess.org/2VSBdXjZ</td>\n",
       "      <td>2077</td>\n",
       "      <td>1548</td>\n",
       "      <td>600+0</td>\n",
       "    </tr>\n",
       "    <tr>\n",
       "      <th>1579</th>\n",
       "      <td>https://lichess.org/Mrdarrr4</td>\n",
       "      <td>1633</td>\n",
       "      <td>1571</td>\n",
       "      <td>600+0</td>\n",
       "    </tr>\n",
       "  </tbody>\n",
       "</table>\n",
       "<p>1580 rows × 4 columns</p>\n",
       "</div>"
      ],
      "text/plain": [
       "                               url white black   time\n",
       "0     https://lichess.org/izAhECFS  1954  1869  600+0\n",
       "1     https://lichess.org/UN5s3xXI  1931  1904  600+0\n",
       "2     https://lichess.org/WYh1IOD4  1646  1671  300+0\n",
       "3     https://lichess.org/pRbVapao  1694  1679  300+3\n",
       "4     https://lichess.org/rZZAdqu5  1998  1987  600+0\n",
       "...                            ...   ...   ...    ...\n",
       "1575  https://lichess.org/W3BLVfNM  1637  1761  300+0\n",
       "1576  https://lichess.org/pTkeuC0h  1847  1844  300+0\n",
       "1577  https://lichess.org/34viWzIM  1699  1681  600+0\n",
       "1578  https://lichess.org/2VSBdXjZ  2077  1548  600+0\n",
       "1579  https://lichess.org/Mrdarrr4  1633  1571  600+0\n",
       "\n",
       "[1580 rows x 4 columns]"
      ]
     },
     "execution_count": 6,
     "metadata": {},
     "output_type": "execute_result"
    }
   ],
   "source": [
    "pd.DataFrame(viennaURLs, columns = columns)"
   ]
  }
 ],
 "metadata": {
  "kernelspec": {
   "display_name": "Python 3 (ipykernel)",
   "language": "python",
   "name": "python3"
  },
  "language_info": {
   "codemirror_mode": {
    "name": "ipython",
    "version": 3
   },
   "file_extension": ".py",
   "mimetype": "text/x-python",
   "name": "python",
   "nbconvert_exporter": "python",
   "pygments_lexer": "ipython3",
   "version": "3.13.3"
  }
 },
 "nbformat": 4,
 "nbformat_minor": 5
}
